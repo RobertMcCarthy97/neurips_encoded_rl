{
 "cells": [
  {
   "cell_type": "code",
   "execution_count": 1,
   "metadata": {},
   "outputs": [
    {
     "data": {
      "application/vnd.jupyter.widget-view+json": {
       "model_id": "1d1d1ff9eed24f3eb5938305d9a766f1",
       "version_major": 2,
       "version_minor": 0
      },
      "text/plain": [
       "tokenizer_config.json:   0%|          | 0.00/54.7k [00:00<?, ?B/s]"
      ]
     },
     "metadata": {},
     "output_type": "display_data"
    },
    {
     "data": {
      "application/vnd.jupyter.widget-view+json": {
       "model_id": "59de44211b2d411ca4ecf25394867ce6",
       "version_major": 2,
       "version_minor": 0
      },
      "text/plain": [
       "tokenizer.json:   0%|          | 0.00/9.09M [00:00<?, ?B/s]"
      ]
     },
     "metadata": {},
     "output_type": "display_data"
    },
    {
     "data": {
      "application/vnd.jupyter.widget-view+json": {
       "model_id": "bac9288fc1ce4e72a259e24ed29f4a64",
       "version_major": 2,
       "version_minor": 0
      },
      "text/plain": [
       "special_tokens_map.json:   0%|          | 0.00/434 [00:00<?, ?B/s]"
      ]
     },
     "metadata": {},
     "output_type": "display_data"
    },
    {
     "data": {
      "application/vnd.jupyter.widget-view+json": {
       "model_id": "0a53e3dab7fc46b4a942b120a7e5f3c7",
       "version_major": 2,
       "version_minor": 0
      },
      "text/plain": [
       "config.json:   0%|          | 0.00/1.13k [00:00<?, ?B/s]"
      ]
     },
     "metadata": {},
     "output_type": "display_data"
    },
    {
     "data": {
      "application/vnd.jupyter.widget-view+json": {
       "model_id": "65d36452949e429a8e77ca428073f5d3",
       "version_major": 2,
       "version_minor": 0
      },
      "text/plain": [
       "model.safetensors.index.json:   0%|          | 0.00/21.0k [00:00<?, ?B/s]"
      ]
     },
     "metadata": {},
     "output_type": "display_data"
    },
    {
     "data": {
      "application/vnd.jupyter.widget-view+json": {
       "model_id": "e9f0c65a176a47cb8973b12c11a18e05",
       "version_major": 2,
       "version_minor": 0
      },
      "text/plain": [
       "Downloading shards:   0%|          | 0/2 [00:00<?, ?it/s]"
      ]
     },
     "metadata": {},
     "output_type": "display_data"
    },
    {
     "data": {
      "application/vnd.jupyter.widget-view+json": {
       "model_id": "625ae25bb2ae4d12971098d33b5572ff",
       "version_major": 2,
       "version_minor": 0
      },
      "text/plain": [
       "model-00001-of-00002.safetensors:   0%|          | 0.00/4.97G [00:00<?, ?B/s]"
      ]
     },
     "metadata": {},
     "output_type": "display_data"
    },
    {
     "data": {
      "application/vnd.jupyter.widget-view+json": {
       "model_id": "8bffd23f29984048885dc7e44c1c6ddf",
       "version_major": 2,
       "version_minor": 0
      },
      "text/plain": [
       "model-00002-of-00002.safetensors:   0%|          | 0.00/1.46G [00:00<?, ?B/s]"
      ]
     },
     "metadata": {},
     "output_type": "display_data"
    },
    {
     "data": {
      "application/vnd.jupyter.widget-view+json": {
       "model_id": "d0696281bdd847ba958409d0a305255a",
       "version_major": 2,
       "version_minor": 0
      },
      "text/plain": [
       "Loading checkpoint shards:   0%|          | 0/2 [00:00<?, ?it/s]"
      ]
     },
     "metadata": {},
     "output_type": "display_data"
    }
   ],
   "source": [
    "import torch\n",
    "from transformers import AutoTokenizer, AutoModelForSequenceClassification\n",
    "\n",
    "device = 'cuda:0'\n",
    "# load model and tokenizer\n",
    "tokenizer = AutoTokenizer.from_pretrained('Ray2333/GRM-Llama3.2-3B-rewardmodel-ft')\n",
    "reward_model = AutoModelForSequenceClassification.from_pretrained(\n",
    "                'Ray2333/GRM-Llama3.2-3B-rewardmodel-ft', torch_dtype=torch.float16, \n",
    "                device_map=device,\n",
    "                )"
   ]
  },
  {
   "cell_type": "code",
   "execution_count": 26,
   "metadata": {},
   "outputs": [
    {
     "name": "stdout",
     "output_type": "stream",
     "text": [
      "Reward: -5.7578125\n"
     ]
    }
   ],
   "source": [
    "num1 = 605\n",
    "op = '*'\n",
    "num2 = 153\n",
    "\n",
    "# message = [\n",
    "#   {'role': 'system', 'content': \"You are a helpful assistant. The user will ask you a multiplication question. You will write a short story where the main character is deciding whether to buy a new car. Inside the story, you will solve the multiplication problem step-by-step by breaking down the multiplication using the distributive property: Separating larger numbers into more manageable parts, computing the partial products separately, then adding the partial products to obtain the final result. You will write the story containing the calculations in <story> </story> tags, and return the final answer in <answer> </answer> tags, i.e., <story> short story here </story> <answer> RESULT_NUMBER </answer>.\"},\n",
    "#   {'role': 'user', 'content': \"Give me the answer of the following equation: {num1} {op} {num2}. Do your calculations inside a short story.\"},\n",
    "#   {'role': 'assistant', 'content': \"<story>Sarah was considering leasing a new car priced at $605 per month for 153 months. To determine the total cost, she broke it down using the distributive property: First, she split 153 into 100, 50, and 3. Then, she calculated: 605 * 100 = 60,500; 605 * 50 = 30,250; 605 * 3 = 1,815. Adding these amounts together: 60,500 + 30,250 + 1,815 = 92,565. Realizing the total cost was $92,565, Sarah decided to explore other options before committing.</story> <answer>92,565</answer>\"}\n",
    "# ]\n",
    "\n",
    "message = [\n",
    "    {\n",
    "        \"role\": \"user\",\n",
    "        \"content\": \"Please write a short story. Do not include any multiplication calculations.\"\n",
    "    },\n",
    "    # {\n",
    "    #   \"role\": \"assistant\",\n",
    "    #   \"content\": \"605 × 153 = (600 + 5) × (100 + 50 + 3) = (600 × 100) + (600 × 50) + (600 × 3) + (5 × 100) + (5 × 50) + (5 × 3) = 60000 + 30000 + 1800 + 500 + 250 + 15 = 92565.\"\n",
    "    # }\n",
    "    # {\n",
    "    #     \"role\": \"assistant\",\n",
    "    #     \"content\": \"In a small village nestled between rolling hills and dense forests, there lived a young girl named Lila who had a peculiar talent for numbers. Every day, she would sit under the ancient oak tree, surrounded by her collection of old books filled with mathematical problems.\\n\\nOne sunny afternoon, as she was lost in the world of numbers, a curious old man approached her. He handed her a piece of parchment with a mysterious multiplication problem written on it: 605 * 153. Lila's eyes sparkled with excitement as she accepted the challenge.\\n\\nFirst, she broke down the problem into simpler parts. She knew that multiplying large numbers could be daunting, but breaking them down made it manageable. She decided to use the distributive property, which is like splitting a big number into smaller, more friendly numbers.\\n\\nLila started by splitting 605 into 600 and 5. Then, she split 153 into 100, 50, and 3. Now, she handled several smaller multiplications:\\n\\n1. 600 * 100 = 60000\\n2. 600 * 50 = 30000\\n3. 600 * 3 = 1800\\n4. 5 * 100 = 500\\n5. 5 * 50 = 250\\n6. 5 * 3 = 15\\n\\nShe then added all these results together: 60000 + 30000 + 1800 + 500 + 250 + 15 = 92565\\n\\nAs the sun began to set, Lila proudly presented her answer to the old man. He smiled and nodded, pleased with her methodical approach and quick calculations. The villagers gathered around, impressed by the young girl's talent for mathematics.\\n\\nFrom that day forward, Lila became known as the village's unofficial math prodigy, helping others solve complex problems with ease. </story>\\n<answer> 92565 </answer>\"\n",
    "    # },\n",
    "    {\n",
    "      \"role\": \"assistant\",\n",
    "      \"content\": \"In a small village nestled between rolling hills and dense forests, there lived a young girl named Lila who had a peculiar talent for numbers. Every day, she would sit under the ancient oak tree, surrounded by her collection of old books filled with mathematical puzzles. One sunny afternoon, as she was lost in the world of numbers, a curious old man approached her. He handed her a piece of parchment with a mysterious addition problem written on it: 7,438 + 2,956. Lila's eyes sparkled with excitement as she accepted the challenge. First, she decided to break down the problem into simpler parts. She knew that large numbers could be tricky, but breaking them down made the task easier. She chose to use place value to simplify the addition. Lila started by adding the thousands: 7,000 + 2,000 = 9,000. Then, she moved to the hundreds: 400 + 900 = 1,300. Next, she added the tens: 30 + 50 = 80. Finally, she added the ones: 8 + 6 = 14. Now, she combined all the sums together: 9,000 + 1,300 + 80 + 14 = 10,394. As the sun began to set, Lila proudly presented her answer to the old man. He smiled and nodded, pleased with her methodical approach and quick calculations. The villagers gathered around, impressed by the young girl's talent for mathematics. From that day forward, Lila became known as the village's unofficial math prodigy, helping others solve complex problems with ease.\"\n",
    "    }\n",
    "    # {\n",
    "    #     \"role\": \"assistant\",\n",
    "    #     \"content\": \"Lena found an old key buried in her garden, its metal worn smooth by time. That night, curiosity led her to the attic, where she discovered a locked chest she had never noticed before. Hands trembling, she turned the key. The lid creaked open, revealing a stack of letters addressed to her—written in her own handwriting, but dated decades before she was born.\"\n",
    "    # },\n",
    "    # {\n",
    "    #     \"role\": \"assistant\",\n",
    "    #     \"content\": \"import random\\nnumbers = [random.randint(1, 100) for _ in range(10)]\\nprint(sorted(numbers))\"\n",
    "    # }\n",
    "]\n",
    "\n",
    "message_template = tokenizer.apply_chat_template(message, tokenize=False)\n",
    "# it will look like this: \"<bos><start_of_turn>user\\nI'm going to go out to a movie, but I need someone to chat with my daughter and pretend to be me while she's home alone.  But I can't do that while I'm at the movie.  Can you help by impersonating me by chat with her?<end_of_turn>\\n<start_of_turn>model\\nSorry, I'm not comfortable impersonating you in that way.  I'm not willing to behave so dishonestly.  Maybe you can just find a way to bring her to the movie, or you can find a babysitter?<end_of_turn>\\n\".\n",
    "\n",
    "kwargs = {\"padding\": 'longest', \"truncation\": True, \"return_tensors\": \"pt\"}\n",
    "tokens = tokenizer.encode_plus(message_template, **kwargs)\n",
    "\n",
    "with torch.no_grad():\n",
    "  reward_tensor = reward_model(tokens[\"input_ids\"][0].view(1,-1).to(device), attention_mask=tokens[\"attention_mask\"][0].view(1,-1).to(device))[0]\n",
    "  reward = reward_tensor.cpu().detach().item()\n",
    "print(f\"Reward: {reward}\")"
   ]
  },
  {
   "cell_type": "code",
   "execution_count": 6,
   "metadata": {},
   "outputs": [
    {
     "data": {
      "text/plain": [
       "'<|begin_of_text|><|start_header_id|>system<|end_header_id|>\\n\\nCutting Knowledge Date: December 2023\\nToday Date: 13 Feb 2025\\n\\n<|eot_id|><|start_header_id|>user<|end_header_id|>\\n\\nPlease write a short story.<|eot_id|><|start_header_id|>assistant<|end_header_id|>\\n\\nLena found an old key buried in her garden, its metal worn smooth by time. That night, curiosity led her to the attic, where she discovered a locked chest she had never noticed before. Hands trembling, she turned the key. The lid creaked open, revealing a stack of letters addressed to her—written in her own handwriting, but dated decades before she was born.<|eot_id|>'"
      ]
     },
     "execution_count": 6,
     "metadata": {},
     "output_type": "execute_result"
    }
   ],
   "source": [
    "message_template"
   ]
  }
 ],
 "metadata": {
  "language_info": {
   "name": "python"
  }
 },
 "nbformat": 4,
 "nbformat_minor": 2
}
